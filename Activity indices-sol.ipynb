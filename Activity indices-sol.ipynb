{
 "cells": [
  {
   "cell_type": "markdown",
   "id": "b65632c0",
   "metadata": {},
   "source": [
    "### Geomagnetic activity\n",
    "#### In this notebook, we will check the geomagnetic activity based on ASY/SYM and auroral indices at the time of LOFAR observation L80898 (starting on 19.12.2012 at 21:49:58), using pandas library\n"
   ]
  },
  {
   "cell_type": "markdown",
   "id": "679f370a",
   "metadata": {},
   "source": [
    "You should first download the relevant [geomagnetic indices](https://wdc.kugi.kyoto-u.ac.jp/aeasy/index.html) in the IAGA2002 format (both AE and ASY/SYM), covering 2 full days 19-20.12.2012"
   ]
  },
  {
   "cell_type": "code",
   "execution_count": null,
   "id": "18ec5722",
   "metadata": {},
   "outputs": [],
   "source": [
    "import pandas as pd\n",
    "import numpy as np\n",
    "import matplotlib.pyplot as plt"
   ]
  },
  {
   "cell_type": "markdown",
   "id": "e00497b3",
   "metadata": {},
   "source": [
    "Let's start with the ASY/SYM indices and load the file"
   ]
  },
  {
   "cell_type": "code",
   "execution_count": null,
   "id": "0ace338a",
   "metadata": {},
   "outputs": [],
   "source": [
    "magind = (pd.read_csv('ASY.txt',header=14,delimiter='\\s+'))"
   ]
  },
  {
   "cell_type": "markdown",
   "id": "f01623b3",
   "metadata": {},
   "source": [
    "Check the data type"
   ]
  },
  {
   "cell_type": "code",
   "execution_count": null,
   "id": "95082176",
   "metadata": {},
   "outputs": [],
   "source": [
    "type(magind)"
   ]
  },
  {
   "cell_type": "markdown",
   "id": "80df9231",
   "metadata": {},
   "source": [
    "We can check the variables that exist in the DataFrame"
   ]
  },
  {
   "cell_type": "code",
   "execution_count": null,
   "id": "7484d547",
   "metadata": {},
   "outputs": [],
   "source": [
    "magind.keys()"
   ]
  },
  {
   "cell_type": "markdown",
   "id": "cee85251",
   "metadata": {},
   "source": [
    "To see a preview of the DataFrame content we can use:"
   ]
  },
  {
   "cell_type": "code",
   "execution_count": null,
   "id": "52baf997",
   "metadata": {},
   "outputs": [],
   "source": [
    "magind.head()"
   ]
  },
  {
   "cell_type": "markdown",
   "id": "f1d5e0ea",
   "metadata": {},
   "source": [
    "We can plot the chosen variables with "
   ]
  },
  {
   "cell_type": "code",
   "execution_count": null,
   "id": "a2251740",
   "metadata": {},
   "outputs": [],
   "source": [
    "magind.plot(x='TIME',y=['ASY-H','ASY-D'],rot=45)\n",
    "plt.xlabel('UTC [h]')\n",
    "plt.ylabel('ASY [nT]')\n",
    "plt.ylim(0,70)\n",
    "plt.show()\n",
    "plt.close()"
   ]
  },
  {
   "cell_type": "code",
   "execution_count": null,
   "id": "d9b96450",
   "metadata": {
    "scrolled": true
   },
   "outputs": [],
   "source": [
    "magind.plot(x='TIME',y=['SYM-H','SYM-D'],rot=45)\n",
    "plt.xlabel('UTC [h]')\n",
    "plt.ylabel('SYM [nT]')\n",
    "plt.ylim(-40,20)\n",
    "plt.show()\n",
    "plt.close()"
   ]
  },
  {
   "cell_type": "markdown",
   "id": "dd39b77c",
   "metadata": {},
   "source": [
    "Above plots are for the whole 2 days to check the overall conditions. Let's zoom it on the time of our observation:"
   ]
  },
  {
   "cell_type": "code",
   "execution_count": null,
   "id": "77c66579",
   "metadata": {
    "scrolled": true
   },
   "outputs": [],
   "source": [
    "magind.iloc[(21*60+50):(30*60+50)].plot(x='TIME',y=['ASY-H','ASY-D'],rot=45)\n",
    "plt.xlabel('UTC [h]')\n",
    "plt.ylabel('ASY-D [nT]')\n",
    "plt.ylim(0,50)\n",
    "plt.show()\n",
    "plt.close()"
   ]
  },
  {
   "cell_type": "markdown",
   "id": "2b83f515",
   "metadata": {},
   "source": [
    "We will now investigate the auroral indices:"
   ]
  },
  {
   "cell_type": "code",
   "execution_count": null,
   "id": "a51372e0",
   "metadata": {},
   "outputs": [],
   "source": [
    "magindae = (pd.read_csv('AE.txt',header=14,delimiter='\\s+'))\n",
    "magindae.head()"
   ]
  },
  {
   "cell_type": "markdown",
   "id": "fdb25653",
   "metadata": {},
   "source": [
    "#### Exercise\n",
    "\n",
    "Make two separate plots of AE, AO and AL, AU indices for the observation's time span"
   ]
  },
  {
   "cell_type": "code",
   "execution_count": null,
   "id": "5567aa9f",
   "metadata": {},
   "outputs": [],
   "source": [
    "magindae.iloc[(21*60+50):(30*60+50)].plot(x='TIME',y=['AE','AO'],rot=45)\n",
    "plt.xlabel('UTC [h]')\n",
    "plt.ylabel('AE,AO [nT]')\n",
    "#plt.ylim(-40,20)\n",
    "plt.show()\n",
    "plt.close()"
   ]
  },
  {
   "cell_type": "code",
   "execution_count": null,
   "id": "05a8a066",
   "metadata": {},
   "outputs": [],
   "source": [
    "magindae.iloc[(21*60+50):(30*60+50)].plot(x='TIME',y=['AU','AL'],rot=45)\n",
    "plt.xlabel('UTC [h]')\n",
    "plt.ylabel('AE,AO [nT]')\n",
    "#plt.ylim(-40,20)\n",
    "plt.show()\n",
    "plt.close()"
   ]
  },
  {
   "cell_type": "markdown",
   "id": "f68d5844",
   "metadata": {},
   "source": [
    "#### Exercise\n",
    "\n",
    "Plot AE index and ASY-H index in the same figure, for the observation's time span\n",
    "\n",
    "Plot the same for ASY-D index"
   ]
  },
  {
   "cell_type": "code",
   "execution_count": null,
   "id": "b2799a4f",
   "metadata": {},
   "outputs": [],
   "source": [
    "axs=magindae.iloc[(21*60+50):(30*60+50)].plot(x='TIME',y='AE',rot=45)\n",
    "axs2=axs.twinx()\n",
    "magind.iloc[(21*60+50):(30*60+50)].plot(x='TIME',y='ASY-H',rot=45,ax=axs2,c='red')\n",
    "axs.set_xlabel('UTC [h]')\n",
    "axs.set_ylabel('AE [nT]')\n",
    "axs2.set_ylabel('ASY-H [nT]')\n",
    "plt.show()\n",
    "plt.close()\n",
    "axs=magindae.iloc[(21*60+50):(30*60+50)].plot(x='TIME',y='AE',rot=45)\n",
    "axs2=axs.twinx()\n",
    "magind.iloc[(21*60+50):(30*60+50)].plot(x='TIME',y='ASY-D',rot=45,ax=axs2,c='red')\n",
    "axs.set_xlabel('UTC [h]')\n",
    "axs.set_ylabel('AE [nT]')\n",
    "axs2.set_ylabel('ASY-D [nT]')\n",
    "plt.show()\n",
    "plt.close()"
   ]
  },
  {
   "cell_type": "code",
   "execution_count": null,
   "id": "4230c862",
   "metadata": {},
   "outputs": [],
   "source": []
  }
 ],
 "metadata": {
  "kernelspec": {
   "display_name": "Python 3 (ipykernel)",
   "language": "python",
   "name": "python3"
  },
  "language_info": {
   "codemirror_mode": {
    "name": "ipython",
    "version": 3
   },
   "file_extension": ".py",
   "mimetype": "text/x-python",
   "name": "python",
   "nbconvert_exporter": "python",
   "pygments_lexer": "ipython3",
   "version": "3.8.12"
  }
 },
 "nbformat": 4,
 "nbformat_minor": 5
}
