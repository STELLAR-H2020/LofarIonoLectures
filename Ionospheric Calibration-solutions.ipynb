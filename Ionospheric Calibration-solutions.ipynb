{
 "cells": [
  {
   "cell_type": "markdown",
   "id": "0765744e",
   "metadata": {},
   "source": [
    "# LOFAR ionospheric Calibration"
   ]
  },
  {
   "cell_type": "markdown",
   "id": "a6db5601",
   "metadata": {},
   "source": [
    "We will discuss here how to obtain ionospheric information from the Lofar interferometry calibration solutions. Some information on Lofar calibration can be found in the cookbook: https://support.astron.nl/LOFARImagingCookbook/. In particular we will be using the solutions obtained with DP3: https://dp3.readthedocs.io/en/latest/.\n",
    "Because of the wide field, Lofar calibration is done in multiple steps. An initial step tries to remove the global instrumental and other corruptions, the so called Direction Independent (DI) calibration. After that, Direction Dependent (DD) calibration is applied to correct for field of view variations."
   ]
  },
  {
   "cell_type": "markdown",
   "id": "49dcf7df",
   "metadata": {},
   "source": [
    "### Question: "
   ]
  },
  {
   "cell_type": "markdown",
   "id": "8b44347b",
   "metadata": {},
   "source": [
    "In which step do you solve for ionospheric effects?"
   ]
  },
  {
   "cell_type": "markdown",
   "id": "35f68f76",
   "metadata": {},
   "source": [
    "### \n",
    "In this excercise we will only look at direction independent calibration. Most of the ionospheric information can be obtained from those solutions. As we wil learn later, the direction independent solutions give access to ionospheric variations over the array. Direction dependent solutions probe variations over the field of view. "
   ]
  },
  {
   "cell_type": "markdown",
   "id": "2148655c",
   "metadata": {},
   "source": [
    "The main ionospheric effect in your data is a dispersive delay, resulting in a frequency dependent phase error. But the second order effect, differential Faraday rotation should also be taken into account. The main instumental effects can be modeled with a complex gain, independent for X and Y polarisation"
   ]
  },
  {
   "cell_type": "markdown",
   "id": "c10fe24c",
   "metadata": {},
   "source": [
    "$\\begin{pmatrix} G_{xx} & G_{xy} \\\\ G_{yx} & G_{yy} \\end{pmatrix} = \\begin{pmatrix} cos(\\alpha) & sin(\\alpha) \\\\ -sin(\\alpha) & cos(\\alpha)\\end{pmatrix}\n",
    "\\cdot \\begin{pmatrix} G_{xx} & 0 \\\\ 0 & G_{yy} \\end{pmatrix} \n",
    "$"
   ]
  },
  {
   "cell_type": "markdown",
   "id": "6fe6a7d9",
   "metadata": {},
   "source": [
    "### Excercise:"
   ]
  },
  {
   "cell_type": "markdown",
   "id": "ade6ae57",
   "metadata": {},
   "source": [
    "Use from DP3 either gaincal or DDECAL to create a parset to use for calibration. Hint: check the \"caltype\" or \"mode\" field."
   ]
  },
  {
   "cell_type": "raw",
   "id": "cf12ceac",
   "metadata": {},
   "source": [
    "checkparset=1\n",
    "msin={MSIN}\n",
    "msout=.\n",
    "steps=[ddecal]\n",
    "ddecal.sourcedb=3c196-field-model.sourcedb\n",
    "ddecal.directions = [[3C196, 3c197.1, 4C+46.17,4C+47.27,4C+49.17, J080135.35+500943.9, J080508+480151, J080645+484137]]\n",
    "#ddecal.directions=[[patch1,patch2,patch3,patch4,patch5,patch6,patch7]]\n",
    "#ddecal.h5parm=solutions.h5\n",
    "ddecal.mode=rotation+diagonal\n",
    "ddecal.usebeammodel=true\n",
    "ddecal.nchan=0\n",
    "ddecal.solint=5\n"
   ]
  },
  {
   "cell_type": "markdown",
   "id": "9dcc1fd6",
   "metadata": {},
   "source": [
    "### Question :"
   ]
  },
  {
   "cell_type": "markdown",
   "id": "d7b8c75e",
   "metadata": {},
   "source": [
    "You can set the number of solutions per time/frequency interval with solint/nchan parameters. What would you chose for the time and frequency resolutions? Why?"
   ]
  },
  {
   "cell_type": "markdown",
   "id": "8ac67f74",
   "metadata": {},
   "source": [
    "### \n",
    "For calibration you need a good source model. Errors in your model will influence the quality of your solutions. If you are interested in the ionospheric content of the calibration solutions, it is best to look at data from a calibrator. During this excercise we will use data from the 3C196 field. "
   ]
  },
  {
   "cell_type": "markdown",
   "id": "ae0fab85",
   "metadata": {},
   "source": [
    "### Excercise: "
   ]
  },
  {
   "cell_type": "markdown",
   "id": "d9f7af9b",
   "metadata": {},
   "source": [
    "What kind of source is 3C196? What are its coordinates? You can for example use the Simbad source catalog."
   ]
  },
  {
   "cell_type": "markdown",
   "id": "bf382d77",
   "metadata": {},
   "source": [
    "### \n",
    "After calibration the solutions are stored in hdf5 files. (h5parm). One example solution file for a single subband can be found in \"data/solutions.h5\". A tool to inspect and post process the solutions is losoto https://support.astron.nl/LOFARImagingCookbook/losoto.html. We will not use losoto now, but it is recommended to use it if you start to work with solution files yourself. You can also directly access the data in python. "
   ]
  },
  {
   "cell_type": "markdown",
   "id": "b015d944",
   "metadata": {},
   "source": [
    "### Excercise:"
   ]
  },
  {
   "cell_type": "markdown",
   "id": "18be16e0",
   "metadata": {},
   "source": [
    "Open the solutions.h5 file in python using h5py. hdf5 has a tree like structure. You can inspect the structure of the file by iterating through the keys(). Try to plot some of the solutions. Can you plot phases versus time? What about rotation angle. Hint: Since interferometric measurement are sensitive to differential delays between stations, you have to chose a reference station."
   ]
  },
  {
   "cell_type": "code",
   "execution_count": null,
   "id": "a18a6de9",
   "metadata": {},
   "outputs": [],
   "source": [
    "import h5py\n",
    "import numpy as np\n",
    "import matplotlib.pyplot as plt\n",
    "from matplotlib.dates import ConciseDateFormatter, date2num"
   ]
  },
  {
   "cell_type": "code",
   "execution_count": null,
   "id": "2db01d7c",
   "metadata": {},
   "outputs": [],
   "source": [
    "myfile = h5py.File(\"data/solutions.h5\")"
   ]
  },
  {
   "cell_type": "code",
   "execution_count": null,
   "id": "86f7e5fa",
   "metadata": {},
   "outputs": [],
   "source": [
    "print(myfile.keys())"
   ]
  },
  {
   "cell_type": "code",
   "execution_count": null,
   "id": "6edefed3",
   "metadata": {},
   "outputs": [],
   "source": [
    "print(myfile['sol000'].keys())"
   ]
  },
  {
   "cell_type": "code",
   "execution_count": null,
   "id": "636da66b",
   "metadata": {},
   "outputs": [],
   "source": [
    "print(myfile['sol000']['phase000'].keys())"
   ]
  },
  {
   "cell_type": "code",
   "execution_count": null,
   "id": "9fcae63b",
   "metadata": {},
   "outputs": [],
   "source": [
    "phases = myfile['sol000']['phase000']['val'][:]\n",
    "phases = phases[:,:,0,0,:] - phases[:,0,0,0,:][:,np.newaxis]\n",
    "times = myfile['sol000']['phase000']['time'][:]"
   ]
  },
  {
   "cell_type": "markdown",
   "id": "d6bac375",
   "metadata": {},
   "source": [
    "The time format is mjd in seconds"
   ]
  },
  {
   "cell_type": "code",
   "execution_count": null,
   "id": "da987dd3",
   "metadata": {},
   "outputs": [],
   "source": [
    "from astropy.time import Time\n",
    "times = Time(times/(3600.*24.),format=\"mjd\")"
   ]
  },
  {
   "cell_type": "code",
   "execution_count": null,
   "id": "3e9736be",
   "metadata": {},
   "outputs": [],
   "source": [
    "fig,ax = plt.subplots()\n",
    "ax.plot(times.datetime,phases[:,50])\n",
    "ax.xaxis.set_major_formatter(ConciseDateFormatter(ax.xaxis.get_major_locator()))"
   ]
  },
  {
   "cell_type": "code",
   "execution_count": null,
   "id": "3f77b0a9",
   "metadata": {},
   "outputs": [],
   "source": [
    "alpha = myfile['sol000']['rotation000']['val'][:]\n",
    "alpha = alpha[:,:,0,0] - alpha[:,0,0,0][:,np.newaxis]\n",
    "times = myfile['sol000']['rotation000']['time'][:]\n",
    "times = Time(times/(3600.*24.),format=\"mjd\")"
   ]
  },
  {
   "cell_type": "code",
   "execution_count": null,
   "id": "31a4c4aa",
   "metadata": {},
   "outputs": [],
   "source": [
    "fig,ax = plt.subplots()\n",
    "ax.plot(times.datetime,alpha[:,55])\n",
    "ax.xaxis.set_major_formatter(ConciseDateFormatter(ax.xaxis.get_major_locator()))\n",
    "ax.set_ylim(-0.1,0.1)"
   ]
  },
  {
   "cell_type": "markdown",
   "id": "58af373a",
   "metadata": {},
   "source": [
    "### \n",
    "The main contribution to the calibration phases come from station clock errors and ionospheric delays. They both have a different frequency dependence. You can use the large bandwidth of Lofar to separate ionospheric phases from clock errors. We do that by fitting for clock and TEC the following function on the phases ($\\phi$):"
   ]
  },
  {
   "cell_type": "markdown",
   "id": "dad715be",
   "metadata": {},
   "source": [
    "$\\phi(\\nu) = 2\\pi\\cdot clock\\cdot\\nu  + 8.45e^9\\cdot TEC/\\nu$"
   ]
  },
  {
   "cell_type": "markdown",
   "id": "b5911e33",
   "metadata": {},
   "source": [
    "With TEC the differential integrated electron density along the line of sight in TECU ($10^{16} e^-/m^2$)"
   ]
  },
  {
   "cell_type": "markdown",
   "id": "6c62fa69",
   "metadata": {},
   "source": [
    "In losoto there is an operation $clocktec$ that does this fit for you, provided you have a large enough bandwidth. So multiples of the solution file above for different frequencies (subbands). "
   ]
  },
  {
   "cell_type": "markdown",
   "id": "e76cbfaa",
   "metadata": {},
   "source": [
    "We have already done the clock tec separation for you. You can now continue with the next notebook to inspect the tec solutions."
   ]
  },
  {
   "cell_type": "code",
   "execution_count": null,
   "id": "f9157eb9",
   "metadata": {},
   "outputs": [],
   "source": []
  }
 ],
 "metadata": {
  "kernelspec": {
   "display_name": "Python 3.10 (ipykernel)",
   "language": "python",
   "name": "python3.10"
  },
  "language_info": {
   "codemirror_mode": {
    "name": "ipython",
    "version": 3
   },
   "file_extension": ".py",
   "mimetype": "text/x-python",
   "name": "python",
   "nbconvert_exporter": "python",
   "pygments_lexer": "ipython3"
  }
 },
 "nbformat": 4,
 "nbformat_minor": 5
}
