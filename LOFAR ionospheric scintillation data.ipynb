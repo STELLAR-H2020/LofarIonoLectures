{
 "cells": [
  {
   "cell_type": "markdown",
   "id": "3b32cf34",
   "metadata": {},
   "source": [
    "# LOFAR scintillation data\n"
   ]
  },
  {
   "cell_type": "markdown",
   "id": "ecef3760",
   "metadata": {},
   "source": [
    "### We will inspect beamformed data of single stations pointing at one of the brightest radio sources in the norther hemisphere"
   ]
  },
  {
   "cell_type": "markdown",
   "id": "fcd762c9",
   "metadata": {},
   "source": [
    "First some basic imports"
   ]
  },
  {
   "cell_type": "code",
   "execution_count": null,
   "id": "3d0a9374",
   "metadata": {},
   "outputs": [],
   "source": [
    "import matplotlib.pyplot as plt\n",
    "import numpy as np"
   ]
  },
  {
   "cell_type": "markdown",
   "id": "d42b1253",
   "metadata": {},
   "source": [
    "The data format we will work with is either hdf5 or fits. Fits files can easily be read using the astropy.io.fits package. For the hdf5 data we use h5py"
   ]
  },
  {
   "cell_type": "code",
   "execution_count": null,
   "id": "1f32e0a0",
   "metadata": {},
   "outputs": [],
   "source": [
    "import h5py\n",
    "from astropy.io import fits"
   ]
  },
  {
   "cell_type": "markdown",
   "id": "bb3c9318",
   "metadata": {},
   "source": [
    "The raw LOFAR beamformed data is generally stored in hdf5 format. Depending on how much averaging has happened before storing the data, these files can become very large. Let's start by inspecting one of the hdf5 files.  "
   ]
  },
  {
   "cell_type": "code",
   "execution_count": null,
   "id": "5bec801f",
   "metadata": {},
   "outputs": [],
   "source": [
    "myfile = h5py.File(\"test_data_CasA.h5\")"
   ]
  },
  {
   "cell_type": "markdown",
   "id": "942f6baf",
   "metadata": {},
   "source": [
    "An hdf5 file contains data arrays and metadata in a tree like structure. myfile is pointing at the root of the file. You can access the branches below the root by checking the keys:"
   ]
  },
  {
   "cell_type": "code",
   "execution_count": null,
   "id": "0751692f",
   "metadata": {},
   "outputs": [],
   "source": [
    "print (list(myfile.keys()))\n",
    "rootkeys = list(myfile.keys())\n",
    "print(list(myfile[rootkeys[0]].keys()))"
   ]
  },
  {
   "cell_type": "markdown",
   "id": "6f1a4b11",
   "metadata": {},
   "source": [
    "The metadata can be accessed similarly via the attrs function. "
   ]
  },
  {
   "cell_type": "code",
   "execution_count": null,
   "id": "bdb5bb82",
   "metadata": {},
   "outputs": [],
   "source": [
    "print (list(myfile.attrs))"
   ]
  },
  {
   "cell_type": "markdown",
   "id": "2bb76177",
   "metadata": {},
   "source": [
    "##### Excercise"
   ]
  },
  {
   "cell_type": "markdown",
   "id": "29af9aa8",
   "metadata": {},
   "source": [
    "Try to familiarize yourself with the dataformat. What is the time resolution of the data? How many stations do we have data for?"
   ]
  },
  {
   "cell_type": "code",
   "execution_count": null,
   "id": "14a3e4ef",
   "metadata": {},
   "outputs": [],
   "source": []
  }
 ],
 "metadata": {
  "kernelspec": {
   "display_name": "Python 3.10 (ipykernel)",
   "language": "python",
   "name": "python3.10"
  },
  "language_info": {
   "codemirror_mode": {
    "name": "ipython",
    "version": 3
   },
   "file_extension": ".py",
   "mimetype": "text/x-python",
   "name": "python",
   "nbconvert_exporter": "python",
   "pygments_lexer": "ipython3"
  }
 },
 "nbformat": 4,
 "nbformat_minor": 5
}
