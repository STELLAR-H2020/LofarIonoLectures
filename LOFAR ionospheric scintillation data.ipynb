{
 "cells": [
  {
   "cell_type": "markdown",
   "id": "3b32cf34",
   "metadata": {},
   "source": [
    "# LOFAR scintillation data\n"
   ]
  },
  {
   "cell_type": "markdown",
   "id": "ecef3760",
   "metadata": {},
   "source": [
    "### We will inspect beamformed data of single stations pointing at one of the brightest radio sources in the northern hemisphere"
   ]
  },
  {
   "cell_type": "markdown",
   "id": "b1a5f24b",
   "metadata": {},
   "source": [
    "The datasets we will use are [Dynspec_rebinned_L262603_SAP000.h5](https://filesender.surf.nl/download.php?token=da8a7b03-ad30-4e94-80cf-9255181240f6&files_ids=14358098), [LOFAR_20150302_170000_CS001LBA_LBA_OUTER_Cas-A.fits](https://spaceweather.astron.nl/SolarKSP/data/atdb_process/scintillation_preview/3155/262603/fits_files/LOFAR_20150302_170000_CS001LBA_LBA_OUTER_Cas-A.fits) and [LOFAR_20230503_100000_CS032LBA_LBA_OUTER_.fits](https://spaceweather.astron.nl/SolarKSP/data/atdb_process/scintillation_preview/4603/888136/fits_files/LOFAR_20230503_100000_CS032LBA_LBA_OUTER_.fits)."
   ]
  },
  {
   "cell_type": "code",
   "execution_count": null,
   "id": "632dcd00",
   "metadata": {},
   "outputs": [],
   "source": []
  },
  {
   "cell_type": "markdown",
   "id": "fcd762c9",
   "metadata": {},
   "source": [
    "First some basic imports"
   ]
  },
  {
   "cell_type": "code",
   "execution_count": null,
   "id": "3d0a9374",
   "metadata": {},
   "outputs": [],
   "source": [
    "import matplotlib.pyplot as plt\n",
    "import numpy as np"
   ]
  },
  {
   "cell_type": "markdown",
   "id": "d42b1253",
   "metadata": {},
   "source": [
    "The data format we will work with is either hdf5 or fits. Fits files can easily be read using the astropy.io.fits package. For the hdf5 data we use h5py"
   ]
  },
  {
   "cell_type": "code",
   "execution_count": null,
   "id": "1f32e0a0",
   "metadata": {},
   "outputs": [],
   "source": [
    "import h5py\n",
    "from astropy.io import fits"
   ]
  },
  {
   "cell_type": "markdown",
   "id": "bb3c9318",
   "metadata": {},
   "source": [
    "The raw LOFAR beamformed data is generally stored in hdf5 format. Depending on how much averaging has happened before storing the data, these files can become very large. Let's start by inspecting one of the hdf5 files.  "
   ]
  },
  {
   "cell_type": "code",
   "execution_count": null,
   "id": "5bec801f",
   "metadata": {},
   "outputs": [],
   "source": [
    "myfile = h5py.File(\"data/Dynspec_rebinned_L262603_SAP000.h5\")"
   ]
  },
  {
   "cell_type": "markdown",
   "id": "942f6baf",
   "metadata": {},
   "source": [
    "An hdf5 file contains data arrays and metadata in a tree like structure. myfile is pointing at the root of the file. You can access the branches below the root by checking the keys:"
   ]
  },
  {
   "cell_type": "code",
   "execution_count": null,
   "id": "0751692f",
   "metadata": {},
   "outputs": [],
   "source": [
    "print (list(myfile.keys()))\n",
    "rootkeys = list(myfile.keys())\n",
    "print(list(myfile[rootkeys[0]].keys()))"
   ]
  },
  {
   "cell_type": "markdown",
   "id": "6f1a4b11",
   "metadata": {},
   "source": [
    "The metadata can be accessed similarly via the attrs function. "
   ]
  },
  {
   "cell_type": "code",
   "execution_count": null,
   "id": "bdb5bb82",
   "metadata": {},
   "outputs": [],
   "source": [
    "print (list(myfile.attrs))"
   ]
  },
  {
   "cell_type": "markdown",
   "id": "2bb76177",
   "metadata": {},
   "source": [
    "##### Excercise"
   ]
  },
  {
   "cell_type": "markdown",
   "id": "29af9aa8",
   "metadata": {},
   "source": [
    "Try to familiarize yourself with the dataformat. What is the time resolution of the data? How many stations do we have data for? Can you get the frequency and time range of the data?"
   ]
  },
  {
   "cell_type": "code",
   "execution_count": null,
   "id": "275b4434",
   "metadata": {},
   "outputs": [],
   "source": [
    "for mykey in myfile.attrs:\n",
    "    print(mykey,myfile.attrs[mykey])\n",
    "freq_start = myfile.attrs['OBSERVATION_FREQUENCY_MIN']\n",
    "freq_end = myfile.attrs['OBSERVATION_FREQUENCY_MAX']\n",
    "time_start = myfile.attrs['OBSERVATION_START_MJD']\n",
    "time_end = myfile.attrs['OBSERVATION_END_MJD']"
   ]
  },
  {
   "cell_type": "code",
   "execution_count": null,
   "id": "14a3e4ef",
   "metadata": {},
   "outputs": [],
   "source": [
    "for mykey in myfile['DYNSPEC_000'].attrs:\n",
    "    print(mykey,myfile['DYNSPEC_000'].attrs[mykey])\n"
   ]
  },
  {
   "cell_type": "markdown",
   "id": "8ed0285c",
   "metadata": {},
   "source": [
    "##### Excercise"
   ]
  },
  {
   "cell_type": "markdown",
   "id": "6bec8f3e",
   "metadata": {},
   "source": [
    "The time frequency data can be accessed via the individual  'DYNSPEC_###'. Each branch contains the data of a separate station. Find the shape of the data of the first station. "
   ]
  },
  {
   "cell_type": "code",
   "execution_count": null,
   "id": "0c2de049",
   "metadata": {},
   "outputs": [],
   "source": [
    "data = myfile['DYNSPEC_000']['DATA']"
   ]
  },
  {
   "cell_type": "code",
   "execution_count": null,
   "id": "abb3a042",
   "metadata": {},
   "outputs": [],
   "source": [
    "print (data.shape)"
   ]
  },
  {
   "cell_type": "markdown",
   "id": "5b19bcee",
   "metadata": {},
   "source": [
    "The datasize is 57209 timeslot x 350 frequency channels. Note that data is only a pointer to the data, it is not read into memory yet. Although you might be able to read all of it into the memory of your computer, this is in general not the case, and you might want to read the data in parts before processing. You can treat the data pointer as if it was a numpy array. Let's try to make some images."
   ]
  },
  {
   "cell_type": "markdown",
   "id": "282c9db5",
   "metadata": {},
   "source": [
    "##### Excercise"
   ]
  },
  {
   "cell_type": "markdown",
   "id": "32d85956",
   "metadata": {},
   "source": [
    "Make a time frequency spectrum of every 10th time sample. **Hint:** Use plt.imshow, Add axis lables by using the extent keyword. The frequency range can be found in the attrs. You can slice the data in numpy by using this syntax: data[start:end:stepsize]"
   ]
  },
  {
   "cell_type": "code",
   "execution_count": null,
   "id": "94dbe903",
   "metadata": {},
   "outputs": [],
   "source": [
    "plt.imshow(data[::10,:,0].T,origin=\"lower\",interpolation=\"none\",aspect=\"auto\",extent = [time_start,time_end,freq_start,freq_end])"
   ]
  },
  {
   "cell_type": "markdown",
   "id": "a0bc343b",
   "metadata": {},
   "source": [
    "Apart from the stripes at the bottom (what are those? )Not much to see in this one. Try using np.log10() on the data, to get a better dynamic range"
   ]
  },
  {
   "cell_type": "code",
   "execution_count": null,
   "id": "31863434",
   "metadata": {},
   "outputs": [],
   "source": [
    "plt.imshow(np.log10(data[::10,:,0]).T,origin=\"lower\",interpolation=\"none\",aspect=\"auto\",extent = [time_start,time_end,freq_start,freq_end])"
   ]
  },
  {
   "cell_type": "markdown",
   "id": "52de56f4",
   "metadata": {},
   "source": [
    "##### Excercise: "
   ]
  },
  {
   "cell_type": "markdown",
   "id": "85502b79",
   "metadata": {},
   "source": [
    "The bandpass is the frequency response of the telescope. Make a plot of the bandpass, use logscale for y. **Hint:**  use numpy median function on the time axis."
   ]
  },
  {
   "cell_type": "code",
   "execution_count": null,
   "id": "81970150",
   "metadata": {},
   "outputs": [],
   "source": [
    "mymed = np.median(data[::10,:,0],axis=0)\n",
    "freqs = np.linspace(freq_start,freq_end,mymed.shape[0])\n",
    "plt.plot(freqs,mymed)\n",
    "plt.xlabel(\"freq (MHz)\")\n",
    "plt.yscale(\"log\")"
   ]
  },
  {
   "cell_type": "markdown",
   "id": "e15503d7",
   "metadata": {},
   "source": [
    "Apart from the strong RFI below 20 MHz. We can nicely recognize the LOFAR LBA dipole response, which has a resonance frequency around 58 MHz. We can now normalize the power spectrum by dividing or subtracting the bandpass.  "
   ]
  },
  {
   "cell_type": "markdown",
   "id": "a78ecd53",
   "metadata": {},
   "source": [
    "##### Excercise:"
   ]
  },
  {
   "cell_type": "markdown",
   "id": "96a0e917",
   "metadata": {},
   "source": [
    "Make the time frequency power spectrum again but now normalized with the bandpass. Since the data (apart from the RFI) should now be close to 1 you can use the vmin and vmax parameters to select the interesting vertical scale.  \n",
    "\n",
    "Structures start to emerge. What do you see?  "
   ]
  },
  {
   "cell_type": "code",
   "execution_count": null,
   "id": "15e3d139",
   "metadata": {},
   "outputs": [],
   "source": [
    "plt.imshow((data[::10,:,0]/mymed[np.newaxis]).T,\n",
    "           origin=\"lower\",\n",
    "           interpolation=\"none\",\n",
    "           aspect=\"auto\",\n",
    "           extent = [time_start,time_end,freq_start,freq_end], vmin=0.9,vmax=1.1)"
   ]
  },
  {
   "cell_type": "markdown",
   "id": "405a9944",
   "metadata": {},
   "source": [
    "##### Excercise:"
   ]
  },
  {
   "cell_type": "markdown",
   "id": "cfdc1b3f",
   "metadata": {},
   "source": [
    "Now make the same plot of a couple of stations. Do you notice something?"
   ]
  },
  {
   "cell_type": "markdown",
   "id": "5cd9faa7",
   "metadata": {},
   "source": [
    "The scintillation index(S4) is defined as the normalised intensity variation: \n",
    "$S4^2 = {{<I^2> - <I>^2}\\over{<I>^2}}$\n",
    "Typically it is calculated over a window of 60s.\n",
    "S4 gives a single number measure of the ionospheric conditions. "
   ]
  },
  {
   "cell_type": "markdown",
   "id": "501a8340",
   "metadata": {},
   "source": [
    "##### Excercise:"
   ]
  },
  {
   "cell_type": "markdown",
   "id": "cf7de937",
   "metadata": {},
   "source": [
    "Calculate S4 over a window of 60s (~600 timeslots on the raw data) for all times. Either select a single frequency (without RFI) or use the median over a range of frequencies. Plot the result."
   ]
  },
  {
   "cell_type": "code",
   "execution_count": null,
   "id": "39ec8aeb",
   "metadata": {},
   "outputs": [],
   "source": [
    "median_data = np.median(data[:,150:350,0],axis=1)\n",
    "ntimes = median_data.shape[0]\n",
    "rounded_ntimes = ntimes - ntimes%600 #make sure the data shape can be divided by 600\n",
    "median_data = np.reshape(median_data[0:rounded_ntimes],(-1,600))\n",
    "S4 = np.sqrt(np.var(median_data,axis=1)/np.average(median_data**2,axis=1))"
   ]
  },
  {
   "cell_type": "code",
   "execution_count": null,
   "id": "6d0dee8f",
   "metadata": {},
   "outputs": [],
   "source": [
    "median_data.shape"
   ]
  },
  {
   "cell_type": "code",
   "execution_count": null,
   "id": "747dee8e",
   "metadata": {},
   "outputs": [],
   "source": [
    "plt.plot(S4)"
   ]
  },
  {
   "cell_type": "code",
   "execution_count": null,
   "id": "874f90c1",
   "metadata": {},
   "outputs": [],
   "source": []
  },
  {
   "cell_type": "code",
   "execution_count": null,
   "id": "d534d61e",
   "metadata": {},
   "outputs": [],
   "source": []
  }
 ],
 "metadata": {
  "kernelspec": {
   "display_name": "Python 3.10 (ipykernel)",
   "language": "python",
   "name": "python3.10"
  },
  "language_info": {
   "codemirror_mode": {
    "name": "ipython",
    "version": 3
   },
   "file_extension": ".py",
   "mimetype": "text/x-python",
   "name": "python",
   "nbconvert_exporter": "python",
   "pygments_lexer": "ipython3"
  }
 },
 "nbformat": 4,
 "nbformat_minor": 5
}
