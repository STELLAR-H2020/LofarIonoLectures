{
 "cells": [
  {
   "cell_type": "markdown",
   "id": "8701e1af-4ae7-47aa-b417-02642fdeb95c",
   "metadata": {},
   "source": [
    "# LOFAR ionospheric scintillation data tutorial part 1\n",
    "Maaijke Mevius, June 2023"
   ]
  },
  {
   "cell_type": "markdown",
   "id": "ecef3760",
   "metadata": {},
   "source": [
    "We will inspect beamformed data of single stations pointing at one of the brightest radio sources in the Northern hemisphere."
   ]
  },
  {
   "cell_type": "markdown",
   "id": "b1a5f24b",
   "metadata": {},
   "source": [
    "The datasets we will use are [Dynspec_rebinned_L262603_SAP000.h5](https://filesender.surf.nl/download.php?token=da8a7b03-ad30-4e94-80cf-9255181240f6&files_ids=14358098), [LOFAR_20150302_170000_CS001LBA_LBA_OUTER_Cas-A.fits](https://spaceweather.astron.nl/SolarKSP/data/atdb_process/scintillation_preview/3155/262603/fits_files/LOFAR_20150302_170000_CS001LBA_LBA_OUTER_Cas-A.fits) and [LOFAR_20230503_100000_CS032LBA_LBA_OUTER_.fits](https://spaceweather.astron.nl/SolarKSP/data/atdb_process/scintillation_preview/4603/888136/fits_files/LOFAR_20230503_100000_CS032LBA_LBA_OUTER_.fits). Please download these to the `data/` subdirectory of the working directory of this notebook."
   ]
  },
  {
   "cell_type": "markdown",
   "id": "fcd762c9",
   "metadata": {},
   "source": [
    "First some basic imports:"
   ]
  },
  {
   "cell_type": "code",
   "execution_count": null,
   "id": "3d0a9374",
   "metadata": {
    "tags": []
   },
   "outputs": [],
   "source": [
    "import matplotlib.pyplot as plt\n",
    "import numpy as np"
   ]
  },
  {
   "cell_type": "markdown",
   "id": "d42b1253",
   "metadata": {},
   "source": [
    "The data format we will work with is either hdf5 or fits. Fits files can easily be read using the `astropy.io.fits` package. For the hdf5 data we use `h5py`:"
   ]
  },
  {
   "cell_type": "code",
   "execution_count": null,
   "id": "1f32e0a0",
   "metadata": {
    "tags": []
   },
   "outputs": [],
   "source": [
    "import h5py\n",
    "from astropy.io import fits"
   ]
  },
  {
   "cell_type": "markdown",
   "id": "bb3c9318",
   "metadata": {},
   "source": [
    "The raw LOFAR beamformed data is generally stored in hdf5 format. Depending on how much averaging has happened before storing the data, these files can become very large. Let's start by inspecting one of the hdf5 files.  "
   ]
  },
  {
   "cell_type": "code",
   "execution_count": null,
   "id": "5bec801f",
   "metadata": {
    "tags": []
   },
   "outputs": [],
   "source": [
    "myfile = h5py.File(\"data/Dynspec_rebinned_L262603_SAP000.h5\")"
   ]
  },
  {
   "cell_type": "markdown",
   "id": "942f6baf",
   "metadata": {},
   "source": [
    "An hdf5 file contains data arrays and metadata in a tree-like structure. `myfile` is pointing at the root of the file. You can access the branches below the root by checking the keys:"
   ]
  },
  {
   "cell_type": "code",
   "execution_count": null,
   "id": "d100abc7-572e-4237-a5a7-68781cd9af68",
   "metadata": {
    "tags": []
   },
   "outputs": [],
   "source": [
    "root_keys = myfile.keys()\n",
    "print(root_keys)"
   ]
  },
  {
   "cell_type": "markdown",
   "id": "354bba24-0394-49bb-af31-d299f6a5ae73",
   "metadata": {},
   "source": [
    "To plot the keys of any of the dynamic spectra:"
   ]
  },
  {
   "cell_type": "code",
   "execution_count": null,
   "id": "595a5bbe-c9ca-48e5-8fec-1243416e0d71",
   "metadata": {
    "tags": []
   },
   "outputs": [],
   "source": [
    "for key in root_keys:\n",
    "    print(myfile[key].keys())\n",
    "    break"
   ]
  },
  {
   "cell_type": "markdown",
   "id": "6f1a4b11",
   "metadata": {},
   "source": [
    "The metadata can be accessed similarly via the `.attrs` attribute."
   ]
  },
  {
   "cell_type": "code",
   "execution_count": null,
   "id": "bdb5bb82",
   "metadata": {
    "tags": []
   },
   "outputs": [],
   "source": [
    "print(list(myfile.attrs))"
   ]
  },
  {
   "cell_type": "markdown",
   "id": "2bb76177",
   "metadata": {},
   "source": [
    "### Excercise"
   ]
  },
  {
   "cell_type": "markdown",
   "id": "29af9aa8",
   "metadata": {},
   "source": [
    "Try to familiarize yourself with the data format. What is the time resolution of the data? How many stations do we have data for? Can you get the frequency and time range of the data?"
   ]
  },
  {
   "cell_type": "code",
   "execution_count": null,
   "id": "c2e700a1-1b33-4806-a0a0-b9fd1fdcf215",
   "metadata": {
    "tags": []
   },
   "outputs": [],
   "source": [
    "for mykey in myfile.attrs:\n",
    "    print(mykey, myfile.attrs[mykey], sep=\"\\t\")"
   ]
  },
  {
   "cell_type": "code",
   "execution_count": null,
   "id": "6311482d-3679-4845-bb59-6fd1e656c76e",
   "metadata": {
    "tags": []
   },
   "outputs": [],
   "source": [
    "from astropy.time import Time"
   ]
  },
  {
   "cell_type": "code",
   "execution_count": null,
   "id": "3654227b-f6f0-474a-9a44-65a3d2b191ca",
   "metadata": {
    "tags": []
   },
   "outputs": [],
   "source": [
    "freq_start = myfile.attrs[\"OBSERVATION_FREQUENCY_MIN\"]\n",
    "freq_end = myfile.attrs[\"OBSERVATION_FREQUENCY_MAX\"]\n",
    "time_start = Time(myfile.attrs[\"OBSERVATION_START_UTC\"][:22])\n",
    "time_end = Time(myfile.attrs[\"OBSERVATION_END_UTC\"][:22])"
   ]
  },
  {
   "cell_type": "code",
   "execution_count": null,
   "id": "14a3e4ef",
   "metadata": {
    "tags": []
   },
   "outputs": [],
   "source": [
    "for mykey in myfile[\"DYNSPEC_000\"].attrs:\n",
    "    print(mykey, myfile[\"DYNSPEC_000\"].attrs[mykey], sep=\"\\t\")"
   ]
  },
  {
   "cell_type": "markdown",
   "id": "8ed0285c",
   "metadata": {},
   "source": [
    "### Excercise"
   ]
  },
  {
   "cell_type": "markdown",
   "id": "6bec8f3e",
   "metadata": {},
   "source": [
    "The time frequency data can be accessed via the individual `DYNSPEC_###`. Each branch contains the data of a separate station. Find the shape of the data of the first station."
   ]
  },
  {
   "cell_type": "code",
   "execution_count": null,
   "id": "0c2de049",
   "metadata": {
    "tags": []
   },
   "outputs": [],
   "source": [
    "data = myfile[\"DYNSPEC_000\"][\"DATA\"]"
   ]
  },
  {
   "cell_type": "code",
   "execution_count": null,
   "id": "abb3a042",
   "metadata": {
    "tags": []
   },
   "outputs": [],
   "source": [
    "print(data.shape)"
   ]
  },
  {
   "cell_type": "markdown",
   "id": "5b19bcee",
   "metadata": {},
   "source": [
    "The data size is 57209 timeslot x 350 frequency channels. Note that `data` is only a pointer to the data, it has not been read into memory yet. Although you might be able to read all of it into the memory of your computer, this is in general not the case, and you might want to read the data in parts before processing. You can treat the data pointer as if it was a numpy array. Let's try to make some images."
   ]
  },
  {
   "cell_type": "markdown",
   "id": "282c9db5",
   "metadata": {},
   "source": [
    "### Excercise"
   ]
  },
  {
   "cell_type": "markdown",
   "id": "32d85956",
   "metadata": {},
   "source": [
    "Make a time-frequency spectrum of every 10th time sample. **Hint:** Use `plt.imshow`, add axis labels by using the `extent` keyword. The frequency range can be found in the attrs. You can slice the data in numpy by using this syntax: `data[start:end:stepsize]`."
   ]
  },
  {
   "cell_type": "code",
   "execution_count": null,
   "id": "f219d69f-9bd1-4b45-8d32-d4c4d5efd43f",
   "metadata": {
    "tags": []
   },
   "outputs": [],
   "source": [
    "from matplotlib.dates import ConciseDateFormatter, date2num"
   ]
  },
  {
   "cell_type": "code",
   "execution_count": null,
   "id": "94dbe903",
   "metadata": {
    "tags": []
   },
   "outputs": [],
   "source": [
    "fig, ax = plt.subplots()\n",
    "ax.imshow(\n",
    "    data[::10, :, 0].T,\n",
    "    origin=\"lower\",\n",
    "    interpolation=\"none\",\n",
    "    aspect=\"auto\",\n",
    "    extent=[\n",
    "        date2num(time_start.datetime),\n",
    "        date2num(time_end.datetime),\n",
    "        freq_start,\n",
    "        freq_end,\n",
    "    ],\n",
    ")\n",
    "ax.xaxis_date()\n",
    "ax.xaxis.set_major_formatter(ConciseDateFormatter(ax.xaxis.get_major_locator()))"
   ]
  },
  {
   "cell_type": "markdown",
   "id": "a0bc343b",
   "metadata": {},
   "source": [
    "Apart from the stripes at the bottom (what are those? )Not much to see in this one. Try using `np.log10()` on the data, to get a better dynamic range."
   ]
  },
  {
   "cell_type": "code",
   "execution_count": null,
   "id": "2e372bc7-5e23-4ce4-a376-1983d688ea09",
   "metadata": {
    "tags": []
   },
   "outputs": [],
   "source": [
    "fig, ax = plt.subplots()\n",
    "ax.imshow(\n",
    "    np.log10(data[::10, :, 0].T),\n",
    "    origin=\"lower\",\n",
    "    interpolation=\"none\",\n",
    "    aspect=\"auto\",\n",
    "    extent=[\n",
    "        date2num(time_start.datetime),\n",
    "        date2num(time_end.datetime),\n",
    "        freq_start,\n",
    "        freq_end,\n",
    "    ],\n",
    ")\n",
    "ax.xaxis_date()\n",
    "ax.xaxis.set_major_formatter(ConciseDateFormatter(ax.xaxis.get_major_locator()))"
   ]
  },
  {
   "cell_type": "markdown",
   "id": "52de56f4",
   "metadata": {},
   "source": [
    "### Excercise: "
   ]
  },
  {
   "cell_type": "markdown",
   "id": "85502b79",
   "metadata": {},
   "source": [
    "The bandpass is the frequency response of the telescope. Make a plot of the bandpass, use a logarithmic scale for the y-axis. **Hint:** use numpy `median` function on the time axis."
   ]
  },
  {
   "cell_type": "code",
   "execution_count": null,
   "id": "db233c58-37cf-4cc1-a66a-0eb209f3334d",
   "metadata": {
    "tags": []
   },
   "outputs": [],
   "source": [
    "bandpass = np.median(data[::10, :, 0], axis=0)\n",
    "freqs = np.linspace(freq_start, freq_end, bandpass.shape[0])"
   ]
  },
  {
   "cell_type": "code",
   "execution_count": null,
   "id": "243d04e5-b83d-49e8-b089-82e024be6d62",
   "metadata": {
    "tags": []
   },
   "outputs": [],
   "source": [
    "fig, ax = plt.subplots()\n",
    "ax.plot(freqs, bandpass)\n",
    "ax.set_yscale(\"log\")\n",
    "ax.set_xlabel(\"Frequency (MHz)\")\n",
    "ax.set_ylabel(\"Median intensity\");"
   ]
  },
  {
   "cell_type": "markdown",
   "id": "e15503d7",
   "metadata": {},
   "source": [
    "### \n",
    "Apart from the strong RFI below 20 MHz, we can nicely recognize the LOFAR LBA dipole response, which has a resonance frequency around 58 MHz. We can now normalize the power spectrum by dividing or subtracting the bandpass."
   ]
  },
  {
   "cell_type": "markdown",
   "id": "a78ecd53",
   "metadata": {
    "tags": []
   },
   "source": [
    "### Excercise:"
   ]
  },
  {
   "cell_type": "markdown",
   "id": "96a0e917",
   "metadata": {},
   "source": [
    "Make the time frequency power spectrum again but now normalized with the bandpass. Since the data (apart from the RFI) should now be close to 1 you can use the `vmin` and `vmax` parameters to select the interesting vertical scale (e.g. the 10% and 90% percentile of the data values).\n",
    "\n",
    "Structures start to emerge. What do you see?  "
   ]
  },
  {
   "cell_type": "code",
   "execution_count": null,
   "id": "536f11e8-b75b-4b8d-b87f-42990e513588",
   "metadata": {
    "tags": []
   },
   "outputs": [],
   "source": [
    "normalized_data = data[::10, :, 0].T / bandpass[:, np.newaxis]"
   ]
  },
  {
   "cell_type": "code",
   "execution_count": null,
   "id": "f4f878c1-224e-49d2-a2e9-1dfca4e55f30",
   "metadata": {
    "tags": []
   },
   "outputs": [],
   "source": [
    "fig, ax = plt.subplots()\n",
    "ax.imshow(\n",
    "    normalized_data,\n",
    "    origin=\"lower\",\n",
    "    interpolation=\"none\",\n",
    "    aspect=\"auto\",\n",
    "    extent=[\n",
    "        date2num(time_start.datetime),\n",
    "        date2num(time_end.datetime),\n",
    "        freq_start,\n",
    "        freq_end,\n",
    "    ],\n",
    "    vmin=0.9,\n",
    "    vmax=1.1,\n",
    ")\n",
    "ax.xaxis_date()\n",
    "ax.xaxis.set_major_formatter(ConciseDateFormatter(ax.xaxis.get_major_locator()))"
   ]
  },
  {
   "cell_type": "markdown",
   "id": "405a9944",
   "metadata": {
    "jp-MarkdownHeadingCollapsed": true,
    "tags": []
   },
   "source": [
    "### Excercise:"
   ]
  },
  {
   "cell_type": "markdown",
   "id": "cfdc1b3f",
   "metadata": {},
   "source": [
    "Now make the same plot of a couple of stations. Do you notice something?"
   ]
  },
  {
   "cell_type": "markdown",
   "id": "5cd9faa7",
   "metadata": {},
   "source": [
    "### \n",
    "The scintillation index (S4) is defined as the normalised intensity variation: \n",
    "$S4^2 = {{<I^2> - <I>^2}\\over{<I>^2}} = \\frac{\\text{variance}(I)}{\\text{mean}(I)^2}$\n",
    "Typically it is calculated over a window of 60s.\n",
    "S4 gives a single number measure of the ionospheric conditions. "
   ]
  },
  {
   "cell_type": "markdown",
   "id": "501a8340",
   "metadata": {},
   "source": [
    "### Excercise:"
   ]
  },
  {
   "cell_type": "markdown",
   "id": "cf7de937",
   "metadata": {},
   "source": [
    "Calculate S4 over a window of 60s (~600 timeslots on the raw data) for all times. Either select a single frequency (without RFI) or use the median over a range of frequencies. Plot the result."
   ]
  },
  {
   "cell_type": "code",
   "execution_count": null,
   "id": "f8ccab50-c6d0-4f75-bcf7-24a019c019f6",
   "metadata": {
    "tags": []
   },
   "outputs": [],
   "source": [
    "data_no_rfi = data[:, 200:230 ,0] / bandpass[np.newaxis,200:230]"
   ]
  },
  {
   "cell_type": "code",
   "execution_count": null,
   "id": "e03091f4-b644-44f9-bd89-b782dfceb65b",
   "metadata": {
    "tags": []
   },
   "outputs": [],
   "source": [
    "median_data = np.median(data_no_rfi, axis=1)"
   ]
  },
  {
   "cell_type": "code",
   "execution_count": null,
   "id": "a5b135c7-7daf-4c3c-9bbd-63087c7cd6cb",
   "metadata": {
    "tags": []
   },
   "outputs": [],
   "source": [
    "ntimes = median_data.shape[0]"
   ]
  },
  {
   "cell_type": "code",
   "execution_count": null,
   "id": "9ae4d52f-bef4-4216-81ad-fb85d4475f14",
   "metadata": {
    "tags": []
   },
   "outputs": [],
   "source": [
    "# Make sure the data can be divided evenly into chunks of 600 timeslots\n",
    "rounded_ntimes = ntimes - ntimes % 600\n",
    "median_data = median_data[0:rounded_ntimes]"
   ]
  },
  {
   "cell_type": "code",
   "execution_count": null,
   "id": "d83ba9b1-1b15-4cc3-a3e0-7790e10185a4",
   "metadata": {
    "tags": []
   },
   "outputs": [],
   "source": [
    "# Divide the data into time chunks and take the variance of each\n",
    "median_data_chunks = np.reshape(median_data, (-1, 600))\n",
    "median_data_chunks.shape"
   ]
  },
  {
   "cell_type": "code",
   "execution_count": null,
   "id": "6a9af9ef-f328-4fc9-be91-15bb0836e8b2",
   "metadata": {
    "tags": []
   },
   "outputs": [],
   "source": [
    "s4 = np.sqrt(\n",
    "    (np.mean(median_data_chunks**2, axis=1) - np.mean(median_data_chunks, axis=1) ** 2)\n",
    "     / (np.mean(median_data_chunks, axis=1) ** 2))"
   ]
  },
  {
   "cell_type": "code",
   "execution_count": null,
   "id": "d534d61e",
   "metadata": {
    "tags": []
   },
   "outputs": [],
   "source": [
    "s4_times = np.linspace(time_start.mjd, time_end.mjd, len(s4))\n",
    "fig, ax = plt.subplots()\n",
    "ax.plot(Time(s4_times, format='mjd').datetime, s4);\n",
    "ax.xaxis.set_major_formatter(ConciseDateFormatter(ax.xaxis.get_major_locator()))\n",
    "ax.set_ylim(None, 0.25)"
   ]
  },
  {
   "cell_type": "code",
   "execution_count": null,
   "id": "59870d0b",
   "metadata": {},
   "outputs": [],
   "source": [
    "plt.plot(median_data)"
   ]
  },
  {
   "cell_type": "code",
   "execution_count": null,
   "id": "fa566cbf",
   "metadata": {},
   "outputs": [],
   "source": []
  },
  {
   "cell_type": "code",
   "execution_count": null,
   "id": "d3a76ec2",
   "metadata": {},
   "outputs": [],
   "source": []
  }
 ],
 "metadata": {
  "kernelspec": {
   "display_name": "Python 3.10 (ipykernel)",
   "language": "python",
   "name": "python3.10"
  },
  "language_info": {
   "codemirror_mode": {
    "name": "ipython",
    "version": 3
   },
   "file_extension": ".py",
   "mimetype": "text/x-python",
   "name": "python",
   "nbconvert_exporter": "python",
   "pygments_lexer": "ipython3"
  }
 },
 "nbformat": 4,
 "nbformat_minor": 5
}
