{
 "cells": [
  {
   "cell_type": "markdown",
   "id": "a4cc1a91",
   "metadata": {},
   "source": [
    "### LOFAR calibration solutions\n",
    "#### The aim is to investigate the ionospheric signal extracted during the calibration routine\n"
   ]
  },
  {
   "cell_type": "markdown",
   "id": "4657b5ce",
   "metadata": {},
   "source": [
    "First we load the numpy file that contains data and time variables. \n",
    "The 'data' variable has ionospheric phases converted into dTEC for core and remote baselines"
   ]
  },
  {
   "cell_type": "code",
   "execution_count": null,
   "id": "1e73def5",
   "metadata": {},
   "outputs": [],
   "source": [
    "import numpy as np"
   ]
  },
  {
   "cell_type": "code",
   "execution_count": null,
   "id": "37848e72",
   "metadata": {},
   "outputs": [],
   "source": [
    "file=np.load('L80898.npz',allow_pickle=True)"
   ]
  },
  {
   "cell_type": "markdown",
   "id": "6fc6d2d8",
   "metadata": {},
   "source": [
    "The above returns a dictionary-like object, containing {filename: array} key-value pairs, one for each file in the archive\n",
    "We check the variables that exist in the file:"
   ]
  },
  {
   "cell_type": "code",
   "execution_count": null,
   "id": "5c874017",
   "metadata": {},
   "outputs": [],
   "source": [
    "for k in file.keys():\n",
    "    print(k)"
   ]
  },
  {
   "cell_type": "markdown",
   "id": "5732bb74",
   "metadata": {},
   "source": [
    "We can extract these variables separately by using:"
   ]
  },
  {
   "cell_type": "code",
   "execution_count": null,
   "id": "73a852a4",
   "metadata": {},
   "outputs": [],
   "source": [
    "data=file['data']\n",
    "times=file['times']"
   ]
  },
  {
   "cell_type": "markdown",
   "id": "2bde15f0",
   "metadata": {},
   "source": [
    "Or we can extract them with the following code; it creates variables with the same names as keys in the original file "
   ]
  },
  {
   "cell_type": "code",
   "execution_count": null,
   "id": "15a0f9a2",
   "metadata": {},
   "outputs": [],
   "source": [
    "for k, v in file.items():\n",
    "    exec(f\"{k} = v\")"
   ]
  },
  {
   "cell_type": "markdown",
   "id": "31322a95",
   "metadata": {},
   "source": [
    "We can take a closer look at the dtec solutions"
   ]
  },
  {
   "cell_type": "code",
   "execution_count": null,
   "id": "1f9d5892",
   "metadata": {},
   "outputs": [],
   "source": [
    "print(data.shape)"
   ]
  },
  {
   "cell_type": "markdown",
   "id": "20756423",
   "metadata": {},
   "source": [
    "This observation has 2876 time samples of ionospheric solutions for 56 baselines. Let's plot them to see how variable is the ionosphere during this observation."
   ]
  },
  {
   "cell_type": "code",
   "execution_count": null,
   "id": "8e2a0a44",
   "metadata": {},
   "outputs": [],
   "source": [
    "import matplotlib.pyplot as plt"
   ]
  },
  {
   "cell_type": "code",
   "execution_count": null,
   "id": "ea54bc66",
   "metadata": {},
   "outputs": [],
   "source": [
    "fig,axs=plt.subplots()\n",
    "axs.plot(np.arange(len(data[0,:])),data.T)\n",
    "axs.set_xlabel('sample number')\n",
    "axs.set_ylabel('dTEC [TECU]')\n",
    "plt.show()\n",
    "plt.close()"
   ]
  },
  {
   "cell_type": "markdown",
   "id": "d8946670",
   "metadata": {},
   "source": [
    "We can see that different baselines detect similar patterns; since there are both core and remote stations included, let's plot them separately. To do this, we need to have information on the station names, which can be found in the 'stations.npz' file. "
   ]
  },
  {
   "cell_type": "markdown",
   "id": "0c60f9bb",
   "metadata": {},
   "source": [
    "##### Exercise 1:\n",
    "Load the stations.npz file, check existing variables "
   ]
  },
  {
   "cell_type": "code",
   "execution_count": null,
   "id": "2969dc71",
   "metadata": {},
   "outputs": [],
   "source": [
    "file2=np.load('stations.npz',allow_pickle=True)"
   ]
  },
  {
   "cell_type": "markdown",
   "id": "072f4dd0",
   "metadata": {},
   "source": [
    "The stations' names are stored as the 'stats' variable, so let's check them"
   ]
  },
  {
   "cell_type": "code",
   "execution_count": null,
   "id": "74a4fe9c",
   "metadata": {},
   "outputs": [],
   "source": [
    "stations=file2['stats']\n",
    "print(stations)"
   ]
  },
  {
   "cell_type": "markdown",
   "id": "74734a83",
   "metadata": {},
   "source": [
    "We can remove the formatting 'b' letter with"
   ]
  },
  {
   "cell_type": "code",
   "execution_count": null,
   "id": "56dd0a0a",
   "metadata": {},
   "outputs": [],
   "source": [
    "stations=np.array([stats.decode() for stats in stations])\n",
    "print(stations)"
   ]
  },
  {
   "cell_type": "markdown",
   "id": "a2a4c035",
   "metadata": {},
   "source": [
    "The core stations start with 'CS', while remote stations with 'RS'. Let's set the reference station as CS001HBA0:"
   ]
  },
  {
   "cell_type": "code",
   "execution_count": null,
   "id": "d8ccfc4d",
   "metadata": {},
   "outputs": [],
   "source": [
    "data=data-data[0,:]"
   ]
  },
  {
   "cell_type": "markdown",
   "id": "e7a68bb5",
   "metadata": {},
   "source": [
    "We can now plot these two types separately (change the index for data to include relevant baselines):"
   ]
  },
  {
   "cell_type": "code",
   "execution_count": null,
   "id": "1fa518ed",
   "metadata": {},
   "outputs": [],
   "source": [
    "fig,axs=plt.subplots(2)\n",
    "axs[0].plot(np.arange(len(data[0,:])),data[1,:].T)\n",
    "axs[1].plot(np.arange(len(data[0,:])),data[54:,:].T)\n",
    "axs[1].set_xlabel('sample number')\n",
    "axs[1].set_ylabel('dTEC [TECU]')\n",
    "axs[0].set_ylabel('dTEC [TECU]')\n",
    "plt.show()\n",
    "plt.close()"
   ]
  },
  {
   "cell_type": "markdown",
   "id": "deecfe9d",
   "metadata": {},
   "source": [
    "Let's now take a look at spatial distribution of the dTEC.\n",
    "\n",
    "We need to know the positions of stations, we will use the librabry 'lofarantpos.db'"
   ]
  },
  {
   "cell_type": "code",
   "execution_count": null,
   "id": "51b6349f",
   "metadata": {},
   "outputs": [],
   "source": [
    "import lofarantpos.db"
   ]
  },
  {
   "cell_type": "code",
   "execution_count": null,
   "id": "3abd8b89",
   "metadata": {},
   "outputs": [],
   "source": [
    "db = lofarantpos.db.LofarAntennaDatabase()\n",
    "coord=np.array([db.phase_centres[stat] for stat in stations])\n",
    "print(stations[0],coord[0])"
   ]
  },
  {
   "cell_type": "markdown",
   "id": "f1af34ee",
   "metadata": {},
   "source": [
    "Having coordinates of each station, we can plot now the dTEC for each baseline at its endpoint for time sample number t_ind. \n",
    "\n",
    "Make plots for few values of t_ind, check if you can see some specific direction or the solutions look random. Play with normalization of the color scale. "
   ]
  },
  {
   "cell_type": "code",
   "execution_count": null,
   "id": "d023ae89",
   "metadata": {},
   "outputs": [],
   "source": [
    "import matplotlib.colors as cm"
   ]
  },
  {
   "cell_type": "code",
   "execution_count": null,
   "id": "e7239754",
   "metadata": {},
   "outputs": [],
   "source": [
    "t_ind=2500\n",
    "\n",
    "fig,axs=plt.subplots()\n",
    "cl=axs.scatter((coord[:,1]-coord[0,1])/1000,(coord[:,0]-coord[0,0])/1000,c=data[:,t_ind],edgecolors='black',s=50,cmap='jet',norm=cm.Normalize(vmin=-0.5,vmax=0.2))\n",
    "axs.set_xlim(-20,20)\n",
    "axs.set_ylim(-60,30)\n",
    "axs.set_ylabel('N [km]')\n",
    "axs.set_xlabel('E [km]')\n",
    "axs.set_aspect('equal')\n",
    "fig.colorbar(cl,label='dTEC [TECU]')\n",
    "axs.set_title('Remote stations')\n",
    "plt.show()\n",
    "plt.close()\n",
    "\n",
    "fig,axs=plt.subplots()\n",
    "cl=axs.scatter((coord[:-11,1]-coord[0,1])/1000,(coord[:-11,0]-coord[0,0])/1000,c=data[:-11,t_ind],edgecolors='black',s=50,cmap='seismic',norm=cm.Normalize(vmin=-0.01,vmax=0.01))\n",
    "axs.set_xlim(-2,2)\n",
    "axs.set_ylim(-2,2)\n",
    "axs.set_ylabel('N [km]')\n",
    "axs.set_xlabel('E [km]')\n",
    "axs.set_aspect('equal')\n",
    "axs.set_title('Core stations')\n",
    "fig.colorbar(cl,label='dTEC [TECU]')\n",
    "plt.show()\n",
    "plt.close()"
   ]
  },
  {
   "cell_type": "markdown",
   "id": "27492712",
   "metadata": {},
   "source": [
    "Up till now we were using sample numbers, but we want to convert it into time. \n",
    "\n",
    "The variable 'times' contains the time for each sample expressed in MJD but using seconds instead of days.\n",
    "We need to convert these time instances into days, and use astropy library to extract the date and time"
   ]
  },
  {
   "cell_type": "code",
   "execution_count": null,
   "id": "3cf6c062",
   "metadata": {},
   "outputs": [],
   "source": [
    "print(times[:10])"
   ]
  },
  {
   "cell_type": "markdown",
   "id": "71f7e806",
   "metadata": {},
   "source": [
    "We can check the sampling time in second:"
   ]
  },
  {
   "cell_type": "code",
   "execution_count": null,
   "id": "cdf154a9",
   "metadata": {},
   "outputs": [],
   "source": [
    "time_l=np.diff(times)\n",
    "print(time_l[:10])\n",
    "step=int(time_l[0])\n",
    "print(step)"
   ]
  },
  {
   "cell_type": "markdown",
   "id": "0d6645fc",
   "metadata": {},
   "source": [
    "We can now plot the observation in local time"
   ]
  },
  {
   "cell_type": "code",
   "execution_count": null,
   "id": "10e3f820",
   "metadata": {},
   "outputs": [],
   "source": [
    "lt=np.arange(len(data[0,:]))*step/3600"
   ]
  },
  {
   "cell_type": "code",
   "execution_count": null,
   "id": "b545126f",
   "metadata": {},
   "outputs": [],
   "source": [
    "fig,axs=plt.subplots()\n",
    "axs.plot(lt,data.T)\n",
    "axs.set_xlabel('Time [h]')\n",
    "axs.set_ylabel('dTEC [TECU]')\n",
    "plt.show()\n",
    "plt.close()"
   ]
  },
  {
   "cell_type": "markdown",
   "id": "fb5db8e3",
   "metadata": {},
   "source": [
    "We will extract now the time in UTC"
   ]
  },
  {
   "cell_type": "code",
   "execution_count": null,
   "id": "2085da5f",
   "metadata": {},
   "outputs": [],
   "source": [
    "from astropy.time import Time"
   ]
  },
  {
   "cell_type": "code",
   "execution_count": null,
   "id": "50456c49",
   "metadata": {},
   "outputs": [],
   "source": [
    "MJD=times/(3600.*24.)   \n",
    "T=Time(MJD, format='mjd', scale='utc')   #creating astropy time object"
   ]
  },
  {
   "cell_type": "markdown",
   "id": "24dc6627",
   "metadata": {},
   "source": [
    "To get UTC date and time, we use ISO formatting:"
   ]
  },
  {
   "cell_type": "code",
   "execution_count": null,
   "id": "80d8160d",
   "metadata": {},
   "outputs": [],
   "source": [
    "Ti=T.iso\n",
    "print(Ti[0])"
   ]
  },
  {
   "cell_type": "markdown",
   "id": "c2b887e2",
   "metadata": {},
   "source": [
    "Splitting the above into date and time:"
   ]
  },
  {
   "cell_type": "code",
   "execution_count": null,
   "id": "f56830b9",
   "metadata": {},
   "outputs": [],
   "source": [
    "date=Ti[0].split(' ')[0].split('-')\n",
    "time=Ti[0].split(' ')[1]"
   ]
  },
  {
   "cell_type": "markdown",
   "id": "43d09afd",
   "metadata": {},
   "source": [
    "#### Exercise 2\n",
    "Extract the UTC time for all samples "
   ]
  },
  {
   "cell_type": "code",
   "execution_count": null,
   "id": "f6566caf",
   "metadata": {},
   "outputs": [],
   "source": [
    "utc_t=np.array([Tii.split(' ')[1] for Tii in Ti])\n",
    "print(utc_t[:10])"
   ]
  },
  {
   "cell_type": "markdown",
   "id": "3fd65135",
   "metadata": {},
   "source": [
    "#### Exercise 3\n",
    "Make a spatial plot of dTEC for a chosen t_ind, convert the t_ind to UTC and add it to the plot (can be added to the title)\n"
   ]
  },
  {
   "cell_type": "code",
   "execution_count": null,
   "id": "18242158",
   "metadata": {},
   "outputs": [],
   "source": [
    "t_ind=2000\n",
    "tu=utc_t[t_ind][:8]\n",
    "\n",
    "fig,axs=plt.subplots()\n",
    "cl=axs.scatter((coord[:-11,1]-coord[0,1])/1000,(coord[:-11,0]-coord[0,0])/1000,c=data[:-11,t_ind],edgecolors='black',s=50,cmap='seismic',norm=cm.Normalize(vmin=-0.01,vmax=0.01))\n",
    "axs.set_xlim(-2,2)\n",
    "axs.set_ylim(-2,2)\n",
    "axs.set_ylabel('N [km]')\n",
    "axs.set_xlabel('E [km]')\n",
    "axs.set_aspect('equal')\n",
    "axs.set_title('Core stations')\n",
    "fig.colorbar(cl,label='dTEC [TECU]')\n",
    "plt.title(str(tu))\n",
    "plt.show()\n",
    "plt.close()"
   ]
  },
  {
   "cell_type": "markdown",
   "id": "08ee71e8",
   "metadata": {},
   "source": [
    "### Rotation measure file"
   ]
  },
  {
   "cell_type": "markdown",
   "id": "dee614c4",
   "metadata": {},
   "source": [
    "Let's now investigate different product of calibration - Rotation Measure RM"
   ]
  },
  {
   "cell_type": "markdown",
   "id": "69c0a3b5",
   "metadata": {},
   "source": [
    "#### Exercise 4\n",
    "\n",
    "Load the file and extract the variables\n",
    "\n",
    "Make a plot of RM for all the stations using local time"
   ]
  },
  {
   "cell_type": "code",
   "execution_count": null,
   "id": "6f6eb04a",
   "metadata": {},
   "outputs": [],
   "source": [
    "rmfile=np.load('rmtime.npz')\n",
    "for k in rmfile.keys():\n",
    "    print(k)"
   ]
  },
  {
   "cell_type": "code",
   "execution_count": null,
   "id": "db47e1f7",
   "metadata": {},
   "outputs": [],
   "source": [
    "for k, v in rmfile.items():\n",
    "    exec(f\"{k} = v\")"
   ]
  },
  {
   "cell_type": "code",
   "execution_count": null,
   "id": "c5d25827",
   "metadata": {},
   "outputs": [],
   "source": [
    "fig,axs=plt.subplots()\n",
    "axs.plot(lt,rmtime[:,47:])\n",
    "axs.set_xlabel('Time [h]')\n",
    "axs.set_ylabel('RM [rad]')\n",
    "plt.show()\n",
    "plt.close()"
   ]
  },
  {
   "cell_type": "markdown",
   "id": "bf8b53bb",
   "metadata": {},
   "source": [
    "We can check which station detected the largest RM amplitude, and at which time sample: "
   ]
  },
  {
   "cell_type": "code",
   "execution_count": null,
   "id": "72998d63",
   "metadata": {},
   "outputs": [],
   "source": [
    "max_ind=np.unravel_index(np.argmax(abs(data)),data.shape)\n",
    "print(max_ind)"
   ]
  },
  {
   "cell_type": "code",
   "execution_count": null,
   "id": "c193559a",
   "metadata": {},
   "outputs": [],
   "source": []
  }
 ],
 "metadata": {
  "kernelspec": {
   "display_name": "Python 3 (ipykernel)",
   "language": "python",
   "name": "python3"
  },
  "language_info": {
   "codemirror_mode": {
    "name": "ipython",
    "version": 3
   },
   "file_extension": ".py",
   "mimetype": "text/x-python",
   "name": "python",
   "nbconvert_exporter": "python",
   "pygments_lexer": "ipython3",
   "version": "3.8.12"
  }
 },
 "nbformat": 4,
 "nbformat_minor": 5
}
